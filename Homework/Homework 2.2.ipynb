{
 "cells": [
  {
   "cell_type": "markdown",
   "id": "cc75b182",
   "metadata": {},
   "source": [
    "### Homework 2.2 - Heat Transfer\n",
    "\n",
    "Use the finite differential method to solve a heat transfer equation, given by\n",
    "\n",
    "$$ \\frac{{\\partial T}}{{\\partial t}} = k\\frac{{{\\partial ^2}T}}{{\\partial {x^2}}} $$\n",
    "\n",
    "where $T(t, x)$ is the temperature distribution function.\n",
    "\n",
    "Solve the equation for $x$ between 0 and 1. At $x=0$ the temperature varies as $T(t,0)=sin(10t)$ and at At $x=1$ the temperature varies as $T(t,0)=e^{ - 100 (t - 0.15)^2}$.\n",
    "\n",
    "Make the animated clip of the temperature distribution function evolution. Pick appropriate time range."
   ]
  },
  {
   "cell_type": "markdown",
   "id": "bb3398d4",
   "metadata": {},
   "source": [
    "$$\\frac{{{T_{i,j + 1}} - {T_{i,j}}}}{\\eta } = k\\frac{{{T_{i + 1,j}} - 2{T_{i,j}} + {T_{i - 1,j}}}}{{{\\delta ^2}}}$$\n",
    "\n",
    "Let $\\varepsilon  = \\frac{{k\\eta }}{{{\\delta ^2}}}$\n",
    "\n",
    "$${T_{i,j + 1}} - {T_{i,j}} = \\varepsilon \\left( {{T_{i + 1,j}} - 2{T_{i,j}} + {T_{i - 1,j}}} \\right)$$\n",
    "\n",
    "$${T_{i,j + 1}} = \\varepsilon \\left( {{T_{i + 1,j}} - 2{T_{i,j}} + {T_{i - 1,j}}} \\right) + {T_{i,j}}$$"
   ]
  },
  {
   "cell_type": "code",
<<<<<<< HEAD
   "execution_count": 1,
   "id": "0f9239be",
=======
   "execution_count": null,
   "id": "372ae843",
>>>>>>> 88eb7a8 (Updates)
   "metadata": {},
   "outputs": [],
   "source": [
    "import numpy as np\n",
    "import matplotlib.pyplot as plt\n",
    "import matplotlib.animation as animation\n",
    "#%matplotlib inline"
   ]
  },
  {
   "cell_type": "code",
   "execution_count": 2,
   "id": "b85df97a",
   "metadata": {},
   "outputs": [
    {
     "data": {
      "image/png": "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\n",
      "text/plain": [
       "<Figure size 432x288 with 1 Axes>"
      ]
     },
     "metadata": {
      "needs_background": "light"
     },
     "output_type": "display_data"
    }
   ],
   "source": [
    "# Set up an array of ux0\n",
    "N = 20\n",
    "L = 1\n",
    "x = np.linspace(0, L, num=N + 1, endpoint=True)\n",
    "Tx0 = 0*x\n",
    "\n",
    "Told = Tx0\n",
    "\n",
    "dt = 0.001 # Set up time step size\n",
    "dh = L / N # Spatial step size\n",
    "k = 0.2\n",
    "eps = k*dt/(dh**2)\n",
    "\n",
    "# Set up initial condition for the time derivative at t = 0\n",
    "dTx0 = np.zeros(N+1)\n",
    "\n",
    "# Calculate time step j = 1\n",
    "Txj = np.zeros(N+1)\n",
    "for i in np.linspace(1, N-1, N-1, dtype=int):\n",
    "    Txj[i] = 0.5*eps*(Tx0[i+1] + Tx0[i-1]) + (1. - eps)*(Tx0[i]) + dt * dTx0[i]\n",
    "Txj[0] = np.sin(10*1*dt)\n",
    "Txj[-1] = np.exp(-100*(1*dt-0.15)**2)\n",
    "\n",
    "TAll = np.array([Txj])\n",
    "fig1 = plt.figure()\n",
    "l = plt.plot(x, Txj)\n",
    "axes = plt.gca()\n",
    "axes.set_ylim([-1,1])\n",
    "axes.set_xlim([0,1])\n",
    "\n",
    "for j in range(2,501):\n",
    "    Tnew = np.zeros(N+1)\n",
    "    Tnew[0] = np.sin(10*j*dt)\n",
    "    Tnew[-1] = np.exp(-100*(j*dt-0.15)**2)\n",
    "    for i in np.linspace(1, N-1, N-1, dtype=int):\n",
    "        Tnew[i] = eps*(Txj[i+1] - 2*Txj[i] + Txj[i-1]) + Txj[i]\n",
    "    Told = Txj \n",
    "    Txj = Tnew\n",
    "    TAll = np.vstack([TAll, Tnew])\n",
    "    #if j > 30:\n",
    "    #    plt.plot(x, Unew)\n",
    "\n",
    "def update_line(num, line):\n",
    "    line.set_data(x, TAll[num])\n",
    "    return line,\n",
    "\n",
    "line_ani = animation.FuncAnimation(fig1, update_line, 500, fargs=(l), interval=10, blit=True)\n",
    "# line_ani.save('wave-in-string.mp4', fps=30, extra_args=['-vcodec', 'libx264'])\n",
    "writergif = animation.PillowWriter(fps=30)\n",
    "line_ani.save('heat-transfer.gif',writer=writergif)\n",
    "plt.show()"
   ]
  }
 ],
 "metadata": {
  "kernelspec": {
   "display_name": "Python 3",
   "language": "python",
   "name": "python3"
  },
  "language_info": {
   "codemirror_mode": {
    "name": "ipython",
    "version": 3
   },
   "file_extension": ".py",
   "mimetype": "text/x-python",
   "name": "python",
   "nbconvert_exporter": "python",
   "pygments_lexer": "ipython3",
   "version": "3.8.8"
  }
 },
 "nbformat": 4,
 "nbformat_minor": 5
}
