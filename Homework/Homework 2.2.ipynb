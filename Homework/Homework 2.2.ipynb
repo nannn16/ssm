{
 "cells": [
  {
   "cell_type": "markdown",
   "id": "cc75b182",
   "metadata": {},
   "source": [
    "### Homework 2.2 - Heat Transfer\n",
    "\n",
    "Use the finite differential method to solve a heat transfer equation, given by\n",
    "\n",
    "$$ \\frac{{\\partial T}}{{\\partial t}} = k\\frac{{{\\partial ^2}T}}{{\\partial {x^2}}} $$\n",
    "\n",
    "where $T(t, x)$ is the temperature distribution function.\n",
    "\n",
    "Solve the equation for $x$ between 0 and 1. At $x=0$ the temperature varies as $T(t,0)=sin(10t)$ and at At $x=1$ the temperature varies as $T(t,0)=e^{ - 100 (t - 0.15)^2}$.\n",
    "\n",
    "Make the animated clip of the temperature distribution function evolution. Pick appropriate time range."
   ]
  },
  {
   "cell_type": "markdown",
   "id": "bb3398d4",
   "metadata": {},
   "source": [
    "$$\\frac{{{T_{i,j + 1}} - {T_{i,j}}}}{\\eta } = k\\frac{{{T_{i + 1,j}} - 2{T_{i,j}} + {T_{i - 1,j}}}}{{{\\delta ^2}}}$$\n",
    "\n",
    "Let $\\varepsilon  = \\frac{{k\\eta }}{{{\\delta ^2}}}$\n",
    "\n",
    "$${T_{i,j + 1}} - {T_{i,j}} = \\varepsilon \\left( {{T_{i + 1,j}} - 2{T_{i,j}} + {T_{i - 1,j}}} \\right)$$\n",
    "\n",
    "$${T_{i,j + 1}} = \\varepsilon \\left( {{T_{i + 1,j}} - 2{T_{i,j}} + {T_{i - 1,j}}} \\right) + {T_{i,j}}$$"
   ]
  },
  {
   "cell_type": "code",
<<<<<<< HEAD
   "execution_count": null,
   "id": "372ae843",
=======
   "execution_count": 1,
   "id": "0f9239be",
>>>>>>> 7b9ce2d (add hw 2.1.2)
   "metadata": {},
   "outputs": [],
   "source": [
    "import numpy as np\n",
    "import matplotlib.pyplot as plt\n",
    "import matplotlib.animation as animation\n",
    "#%matplotlib inline"
   ]
  },
  {
   "cell_type": "code",
   "execution_count": 2,
   "id": "b85df97a",
   "metadata": {},
   "outputs": [
    {
     "data": {
      "image/png": "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\n",
      "text/plain": [
       "<Figure size 432x288 with 1 Axes>"
      ]
     },
     "metadata": {
      "needs_background": "light"
     },
     "output_type": "display_data"
    }
   ],
   "source": [
    "# Set up an array of ux0\n",
    "N = 20\n",
    "L = 1\n",
    "x = np.linspace(0, L, num=N + 1, endpoint=True)\n",
    "Tx0 = 0*x\n",
    "\n",
    "Told = Tx0\n",
    "\n",
    "dt = 0.001 # Set up time step size\n",
    "dh = L / N # Spatial step size\n",
    "k = 0.3\n",
    "eps = k*dt/(dh**2)\n",
    "\n",
    "# Set up initial condition for the time derivative at t = 0\n",
    "dTx0 = np.zeros(N+1)\n",
    "\n",
    "# Calculate time step j = 1\n",
    "Txj = np.zeros(N+1)\n",
    "for i in np.linspace(1, N-1, N-1, dtype=int):\n",
    "    Txj[i] = 0.5*eps*(Tx0[i+1] + Tx0[i-1]) + (1. - eps)*(Tx0[i]) + dt * dTx0[i]\n",
    "Txj[0] = np.sin(10*1*dt)\n",
    "Txj[-1] = np.exp(-100*(1*dt-0.15)**2)\n",
    "\n",
    "TAll = np.array([Txj])\n",
    "fig1 = plt.figure()\n",
    "l = plt.plot(x, Txj)\n",
    "axes = plt.gca()\n",
    "axes.set_ylim([-1,1])\n",
    "axes.set_xlim([0,1])\n",
    "\n",
    "for j in range(2,501):\n",
    "    Tnew = np.zeros(N+1)\n",
    "    Tnew[0] = np.sin(10*j*dt)\n",
    "    Tnew[-1] = np.exp(-100*(j*dt-0.15)**2)\n",
    "    for i in np.linspace(1, N-1, N-1, dtype=int):\n",
    "        Tnew[i] = eps*(Txj[i+1] - 2*Txj[i] + Txj[i-1]) + Txj[i]\n",
    "    Told = Txj \n",
    "    Txj = Tnew\n",
    "    TAll = np.vstack([TAll, Tnew])\n",
    "    #if j > 30:\n",
    "    #    plt.plot(x, Unew)\n",
    "\n",
    "def update_line(num, line):\n",
    "    line.set_data(x, TAll[num])\n",
    "    return line,\n",
    "\n",
    "line_ani = animation.FuncAnimation(fig1, update_line, 500, fargs=(l), interval=10, blit=True)\n",
    "# line_ani.save('wave-in-string.mp4', fps=30, extra_args=['-vcodec', 'libx264'])\n",
    "writergif = animation.PillowWriter(fps=30)\n",
    "line_ani.save('heat-transfer.gif',writer=writergif)\n",
    "plt.show()"
   ]
  }
 ],
 "metadata": {
  "kernelspec": {
   "display_name": "Python 3",
   "language": "python",
   "name": "python3"
  },
  "language_info": {
   "codemirror_mode": {
    "name": "ipython",
    "version": 3
   },
   "file_extension": ".py",
   "mimetype": "text/x-python",
   "name": "python",
   "nbconvert_exporter": "python",
   "pygments_lexer": "ipython3",
   "version": "3.8.8"
  }
 },
 "nbformat": 4,
 "nbformat_minor": 5
}
