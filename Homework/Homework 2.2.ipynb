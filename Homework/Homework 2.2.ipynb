{
 "cells": [
  {
   "cell_type": "markdown",
   "id": "cc75b182",
   "metadata": {},
   "source": [
    "### Homework 2.2 - Heat Transfer\n",
    "\n",
    "Use the finite differential method to solve a heat transfer equation, given by\n",
    "\n",
    "$$ \\frac{{\\partial T}}{{\\partial t}} = k\\frac{{{\\partial ^2}T}}{{\\partial {x^2}}} $$\n",
    "\n",
    "where $T(t, x)$ is the temperature distribution function.\n",
    "\n",
    "Solve the equation for $x$ between 0 and 1. At $x=0$ the temperature varies as $T(t,0)=sin(10t)$ and at At $x=1$ the temperature varies as $T(t,0)=e^{ - 100 (t - 0.15)^2}$.\n",
    "\n",
    "Make the animated clip of the temperature distribution function evolution. Pick appropriate time range."
   ]
  },
  {
   "cell_type": "markdown",
   "id": "bb3398d4",
   "metadata": {},
   "source": [
    "$$\\frac{{{T_{i,j + 1}} - {T_{i,j}}}}{\\eta } = k\\frac{{{T_{i + 1,j}} - 2{T_{i,j}} + {T_{i - 1,j}}}}{{{\\delta ^2}}}$$\n",
    "\n",
    "Let $\\varepsilon  = \\frac{{k\\eta }}{{{\\delta ^2}}}$\n",
    "\n",
    "$${T_{i,j + 1}} - {T_{i,j}} = \\varepsilon \\left( {{T_{i + 1,j}} - 2{T_{i,j}} + {T_{i - 1,j}}} \\right)$$\n",
    "\n",
    "$${T_{i,j + 1}} = \\varepsilon \\left( {{T_{i + 1,j}} - 2{T_{i,j}} + {T_{i - 1,j}}} \\right) + {T_{i,j}}$$"
   ]
  },
  {
   "cell_type": "code",
   "execution_count": 1,
   "id": "0f9239be",
   "metadata": {},
   "outputs": [],
   "source": [
    "import numpy as np\n",
    "import matplotlib.pyplot as plt\n",
    "import matplotlib.animation as animation\n",
    "#%matplotlib inline"
   ]
  },
  {
   "cell_type": "code",
   "execution_count": 2,
   "id": "b85df97a",
   "metadata": {},
   "outputs": [
    {
     "data": {
      "image/png": "[encoded data removed]",
      "text/plain": [
       "<Figure size 432x288 with 1 Axes>"
      ]
     },
     "metadata": {
      "needs_background": "light"
     },
     "output_type": "display_data"
    }
   ],
   "source": [
    "# Set up an array of ux0\n",
    "N = 100\n",
    "L = 1\n",
    "x = np.linspace(0, L, num=N + 1, endpoint=True)\n",
    "Tx0 = 0*x\n",
    "\n",
    "Told = Tx0\n",
    "\n",
    "dt = 0.001 # Set up time step size\n",
    "dh = L / N # Spatial step size\n",
    "k = 0.2\n",
    "eps = k*dt/(dh**2)\n",
    "\n",
    "# Calculate time step j = 1\n",
    "Txj = np.zeros(101)\n",
    "\n",
    "TAll = np.array([Txj])\n",
    "fig1 = plt.figure()\n",
    "l = plt.plot(x, Txj)\n",
    "axes = plt.gca()\n",
    "axes.set_ylim([-4,4])\n",
    "axes.set_xlim([0,1])\n",
    "\n",
    "for j in range(200):\n",
    "    Tnew = np.zeros(101)\n",
    "    Tnew[0] = np.sin(10*j)\n",
    "    Tnew[-1] = np.exp(-100*(j-0.15)**2)\n",
    "    for i in np.linspace(1, 99, 99, dtype=int):\n",
    "        Tnew[i] = eps*(Txj[i+1] - 2*Txj[i] + Txj[i-1]) + Txj[i]\n",
    "    Told = Txj \n",
    "    Txj = Tnew\n",
    "    TAll = np.vstack([TAll, Tnew])\n",
    "    #if j > 30:\n",
    "    #    plt.plot(x, Unew)\n",
    "\n",
    "def update_line(num, line):\n",
    "    line.set_data(x, TAll[num])\n",
    "    return line,\n",
    "\n",
    "line_ani = animation.FuncAnimation(fig1, update_line, 200, fargs=(l), interval=20, blit=True)\n",
    "# line_ani.save('wave-in-string.mp4', fps=30, extra_args=['-vcodec', 'libx264'])\n",
    "writergif = animation.PillowWriter(fps=30)\n",
    "line_ani.save('heat-transfer.gif',writer=writergif)\n",
    "plt.show()"
   ]
  }
 ],
 "metadata": {
  "kernelspec": {
   "display_name": "Python 3",
   "language": "python",
   "name": "python3"
  },
  "language_info": {
   "codemirror_mode": {
    "name": "ipython",
    "version": 3
   },
   "file_extension": ".py",
   "mimetype": "text/x-python",
   "name": "python",
   "nbconvert_exporter": "python",
   "pygments_lexer": "ipython3",
   "version": "3.8.8"
  }
 },
 "nbformat": 4,
 "nbformat_minor": 5
}
