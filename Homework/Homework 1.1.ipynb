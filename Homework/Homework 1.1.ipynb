{
 "cells": [
  {
   "cell_type": "markdown",
   "metadata": {},
   "source": [
    "## Homework 1.1 - Electrostatic potential of a square disc\n",
    "\n",
    "Consider a square region in the $xy$-plane, such that $-1 \\le x \\le 1$ and $-1 \\le y \\le 1$, containing a uniform charge distribution $\\rho$. The electro static potential at the point $(x_p, y_p)$ due to this charge distribution is obtained by integrating over the charged region.\n",
    "\n",
    "$$\\Phi ({x_p},{y_p}) = \\frac{\\rho }{{4\\pi {\\varepsilon _0}}}\\int_{ - 1}^1 {\\int_{ - 1}^1 {\\frac{1}{{\\sqrt {{{(x - {x_p})}^2} + {{(y - {y_p})}^2}} }}} {dxdy} } $$\n",
    "\n",
    "For simplicity, use $\\frac{\\rho }{{4\\pi {\\varepsilon _0}}} = 1$. Evaluate the electric potentials $\\Phi(2, 2)$, $\\Phi(2, 4)$, $\\Phi(5, 10)$ and  $\\Phi(15, 15)$."
   ]
  },
  {
   "cell_type": "code",
   "execution_count": 1,
   "metadata": {},
   "outputs": [],
   "source": [
    "from scipy import integrate\n",
    "import math\n",
    "\n",
    "def phi(x_p, y_p):\n",
    "    return integrate.dblquad(lambda x, y: 1/(math.sqrt((x-x_p)**2 + (y-y_p)**2)), -1, 1, lambda x: -1, lambda x: 1)\n"
   ]
  },
  {
   "cell_type": "code",
   "execution_count": 2,
   "metadata": {},
   "outputs": [
    {
     "name": "stdout",
     "output_type": "stream",
     "text": [
      "(1.4493948762686601, 1.6091515634071965e-14)\n",
      "(0.9021779766984398, 1.0016187620403458e-14)\n",
      "(0.358250859760195, 3.977383530975265e-15)\n",
      "(0.18863186362999226, 2.0942343817997007e-15)\n"
     ]
    }
   ],
   "source": [
    "print(phi(2,2))\n",
    "print(phi(2,4))\n",
    "print(phi(5,10))\n",
    "print(phi(15,15))"
   ]
  },
  {
   "cell_type": "code",
   "execution_count": null,
   "metadata": {},
   "outputs": [],
   "source": []
  }
 ],
 "metadata": {
  "kernelspec": {
   "display_name": "Python 3",
   "language": "python",
   "name": "python3"
  },
  "language_info": {
   "codemirror_mode": {
    "name": "ipython",
    "version": 3
   },
   "file_extension": ".py",
   "mimetype": "text/x-python",
   "name": "python",
   "nbconvert_exporter": "python",
   "pygments_lexer": "ipython3",
<<<<<<< HEAD
<<<<<<< HEAD
<<<<<<< HEAD
<<<<<<< HEAD
   "version": "3.9.7"
=======
   "version": "3.8.8"
>>>>>>> feb7763 (add hw1)
=======
=======
>>>>>>> 852d117 (add hw1)
=======
>>>>>>> gigadot-main
   "version": "3.8.8"
=======
   "version": "3.9.7"
>>>>>>> 88eb7a8 (Updates)
<<<<<<< HEAD
<<<<<<< HEAD
>>>>>>> d737129 (Updates)
=======
=======
>>>>>>> gigadot-main
=======
   "version": "3.9.7"
=======
   "version": "3.8.8"
>>>>>>> feb7763 (add hw1)
>>>>>>> e992123 (add hw1)
<<<<<<< HEAD
>>>>>>> 852d117 (add hw1)
=======
>>>>>>> gigadot-main
  }
 },
 "nbformat": 4,
 "nbformat_minor": 1
}
